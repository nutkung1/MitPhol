{
 "cells": [
  {
   "cell_type": "code",
   "execution_count": 1,
   "metadata": {
    "colab": {
     "base_uri": "https://localhost:8080/"
    },
    "id": "GzzIpi67F-5M",
    "outputId": "7a4ca05c-72a9-485a-ff3c-43183dc2c079"
   },
   "outputs": [
    {
     "name": "stdout",
     "output_type": "stream",
     "text": [
      "zsh:1: command not found: nvidia-smi\r\n"
     ]
    }
   ],
   "source": [
    "!nvidia-smi"
   ]
  },
  {
   "cell_type": "code",
   "execution_count": 2,
   "metadata": {
    "colab": {
     "base_uri": "https://localhost:8080/"
    },
    "id": "v9LG0iK0GCVU",
    "outputId": "af0635ad-03c9-441b-9502-88eebae1f5ba"
   },
   "outputs": [],
   "source": [
    "!pip install -Uqqq pip --progress-bar off\n",
    "!pip install -qqq langchain==0.0.228 --progress-bar off\n",
    "!pip install -qqq chromadb==0.3.26 --progress-bar off\n",
    "!pip install -qqq sentence-transformers==2.2.2 --progress-bar off\n",
    "!pip install -qqq auto-gptq==0.2.2 --progress-bar off\n",
    "!pip install -qqq einops==0.6.1 --progress-bar off\n",
    "!pip install -qqq unstructured==0.8.0 --progress-bar off\n",
    "!pip install -qqq transformers==4.30.2 --progress-bar off\n",
    "!pip install -qqq torch==2.0.1 --progress-bar off"
   ]
  },
  {
   "cell_type": "code",
   "execution_count": 3,
   "metadata": {
    "id": "5kbBLduZIhVm"
   },
   "outputs": [
    {
     "ename": "ModuleNotFoundError",
     "evalue": "No module named 'torch'",
     "output_type": "error",
     "traceback": [
      "\u001b[0;31m---------------------------------------------------------------------------\u001b[0m",
      "\u001b[0;31mModuleNotFoundError\u001b[0m                       Traceback (most recent call last)",
      "Cell \u001b[0;32mIn[3], line 3\u001b[0m\n\u001b[1;32m      1\u001b[0m \u001b[38;5;28;01mfrom\u001b[39;00m \u001b[38;5;21;01mpathlib\u001b[39;00m \u001b[38;5;28;01mimport\u001b[39;00m Path\n\u001b[0;32m----> 3\u001b[0m \u001b[38;5;28;01mimport\u001b[39;00m \u001b[38;5;21;01mtorch\u001b[39;00m\n\u001b[1;32m      4\u001b[0m \u001b[38;5;28;01mfrom\u001b[39;00m \u001b[38;5;21;01mauto_gptq\u001b[39;00m \u001b[38;5;28;01mimport\u001b[39;00m AutoGPTQForCausalLM\n\u001b[1;32m      5\u001b[0m \u001b[38;5;28;01mfrom\u001b[39;00m \u001b[38;5;21;01mlangchain\u001b[39;00m\u001b[38;5;21;01m.\u001b[39;00m\u001b[38;5;21;01mchains\u001b[39;00m \u001b[38;5;28;01mimport\u001b[39;00m ConversationalRetrievalChain\n",
      "\u001b[0;31mModuleNotFoundError\u001b[0m: No module named 'torch'"
     ]
    }
   ],
   "source": [
    "from pathlib import Path\n",
    "\n",
    "import torch\n",
    "from auto_gptq import AutoGPTQForCausalLM\n",
    "from langchain.chains import ConversationalRetrievalChain\n",
    "from langchain.chains.question_answering import load_qa_chain\n",
    "from langchain.document_loaders import DirectoryLoader\n",
    "from langchain.embeddings import HuggingFaceEmbeddings\n",
    "from langchain.llms import HuggingFacePipeline\n",
    "from langchain.memory import ConversationBufferMemory\n",
    "from langchain.prompts import PromptTemplate\n",
    "from langchain.text_splitter import CharacterTextSplitter\n",
    "from langchain.vectorstores import Chroma\n",
    "from transformers import AutoTokenizer, GenerationConfig, TextStreamer, pipeline, AutoModelForCausalLM"
   ]
  },
  {
   "cell_type": "markdown",
   "metadata": {
    "id": "SQJloJwlMC1u"
   },
   "source": [
    "**Data**"
   ]
  },
  {
   "cell_type": "code",
   "execution_count": null,
   "metadata": {
    "id": "Jzpt7vaAL-og"
   },
   "outputs": [],
   "source": [
    "questions_dir = Path(\"skyscanner\")\n",
    "questions_dir.mkdir(exist_ok=True, parents=True)\n",
    "\n",
    "def write_file(question, answer, file_path):\n",
    "  text = f\"\"\"\n",
    "  Q: {question}\n",
    "  A: {answer}\n",
    "  \"\"\".strip()\n",
    "  with Path(questions_dir / file_path).open(\"w\") as text_file:\n",
    "    text_file.write(text)"
   ]
  },
  {
   "cell_type": "code",
   "execution_count": null,
   "metadata": {
    "id": "HuajHp_2MNT4"
   },
   "outputs": [],
   "source": [
    "write_file(\n",
    "    question=\"How do I search for flights on skyscanner?\",\n",
    "    answer=\"\"\"Skyscanner helps you find the best options for flights on a specific data, or an any day in a given month or even year. For tips on how bext to search, please head over to over to our search tip\n",
    "    If you're looking for inspiration for your next trip, why not try our everywhere, features. Or, if you want to hang out and ensure best price, you can set up price alers to let\n",
    "    \"\"\".strip(),\n",
    "    file_path=\"question_1.txt\",\n",
    ")"
   ]
  },
  {
   "cell_type": "code",
   "execution_count": null,
   "metadata": {
    "id": "A5wbU3IfMNhC"
   },
   "outputs": [],
   "source": [
    "write_file(\n",
    "    question=\"What are mash-ups\",\n",
    "    answer=\"\"\"A mash-up is a creative work, usually a song, created by blending two or more pre-recorded songs, typically by superimposing the vocal track of one song seamlessly over the instrumental track of another and changing the tempo and key where necessary.\n",
    "\n",
    "Mash-ups have been around for many years, but they became more popular in the late 1990s and early 2000s with the rise of digital music production software. Today, mash-ups are created by people of all skill levels, from professional musicians to amateur DJs.\n",
    "\n",
    "Mash-ups can be created for a variety of reasons. Some people create them simply for fun, while others use them as a way to express their creativity or to make a social or political statement. Mash-ups can also be used as a tool for education, such as when teachers create mash-ups to teach their students about different genres of music or historical events.\n",
    "    \"\"\".strip(),\n",
    "    file_path=\"question_2.txt\",\n",
    ")"
   ]
  },
  {
   "cell_type": "code",
   "execution_count": null,
   "metadata": {
    "id": "Hn4CcpJhOcVi"
   },
   "outputs": [],
   "source": [
    "write_file(\n",
    "    question=\"Why have I been blocked from accessing the Skyscanner website?\",\n",
    "    answer=\"\"\"\n",
    "There are a few reasons why you might have been blocked from accessing the Skyscanner website:\n",
    "\n",
    "You're using a VPN. Skyscanner blocks some VPNs because they are used by bots to scrape their website.\n",
    "You're using the website at super speed. If you're making too many requests to the Skyscanner website in a short period of time, they may block you to prevent their servers from being overloaded.\n",
    "You're using a browser plug-in that is interfering with the website. Some browser plug-ins, such as ad blockers and privacy-focused extensions, can interfere with how Skyscanner works.\n",
    "You're using an automated browser. Skyscanner blocks automated browsers because they are often used by bots to scrape their website.\n",
    "If you're not sure why you've been blocked, you can try contacting Skyscanner support for assistance.\n",
    "    \"\"\".strip(),\n",
    "    file_path=\"question_3.txt\",\n",
    ")"
   ]
  },
  {
   "cell_type": "code",
   "execution_count": null,
   "metadata": {
    "id": "Za6CeVxaOv1y"
   },
   "outputs": [],
   "source": [
    "write_file(\n",
    "    question=\"Where is my booking confirmation?\",\n",
    "    answer=\"\"\"Skyscanner is a travel search engine, so they don't actually book your travel for you. Instead, they redirect you to the website of the airline or travel agent that you choose to book with.\n",
    "\n",
    "This means that your booking confirmation email will come from the airline or travel agent that you booked with, not from Skyscanner.\n",
    "\n",
    "If you can't find your booking confirmation email, you can try the following:\n",
    "\n",
    "Check your spam or junk mail folder.\n",
    "Search your inbox for the name of the airline or travel agent that you booked with.\n",
    "Try contacting the airline or travel agent directly to ask for a copy of your booking confirmation.\n",
    "    \"\"\".strip(),\n",
    "    file_path=\"question_4.txt\",\n",
    ")"
   ]
  },
  {
   "cell_type": "code",
   "execution_count": null,
   "metadata": {
    "id": "Flzn_54tPRnR"
   },
   "outputs": [],
   "source": [
    "write_file(\n",
    "    question=\"How do I change or cancel my booking?\",\n",
    "    answer=\"\"\"\n",
    "To change or cancel your booking, you will need to contact the airline or travel agent that you booked with. Skyscanner does not have access to your booking information or the ability to make changes or cancellations on your behalf.\n",
    "\n",
    "To contact the airline or travel agent, you can usually find their contact information on their website or in your booking confirmation email.\n",
    "\n",
    "When you contact the airline or travel agent, be sure to have your booking information ready, such as your booking reference number or ticket number. This will help them to quickly locate your booking and make the necessary changes or cancellations.\n",
    "\n",
    "Keep in mind that there may be fees associated with changing or canceling your booking. These fees vary depending on the airline or travel agent and the type of fare that you booked.\n",
    "    \"\"\".strip(),\n",
    "    file_path=\"question_5.txt\",\n",
    ")"
   ]
  },
  {
   "cell_type": "code",
   "execution_count": null,
   "metadata": {
    "id": "ugF2rcgAPgyW"
   },
   "outputs": [],
   "source": [
    "write_file(\n",
    "    question=\"I booked the wrong dates / times?\",\n",
    "    answer=\"\"\"\n",
    "If you booked the wrong dates or times for your flight, you will need to contact the airline or travel agent that you booked with to make changes to your booking. Skyscanner does not have access to your booking information or the ability to make changes on your behalf.\n",
    "\n",
    "To contact the airline or travel agent, you can usually find their contact information on their website or in your booking confirmation email.\n",
    "\n",
    "When you contact the airline or travel agent, be sure to have your booking information ready, such as your booking reference number or ticket number. This will help them to quickly locate your booking and make the necessary changes.\n",
    "\n",
    "Keep in mind that there may be fees associated with changing your booking. These fees vary depending on the airline or travel agent and the type of fare that you booked.\n",
    "    \"\"\".strip(),\n",
    "    file_path=\"question_6.txt\",\n",
    ")"
   ]
  },
  {
   "cell_type": "code",
   "execution_count": null,
   "metadata": {
    "id": "sqldN8-DP3wI"
   },
   "outputs": [],
   "source": [
    "write_file(\n",
    "    question=\"I enter the wrong email address\",\n",
    "    answer=\"\"\"\n",
    "    Please contact the airline or travel agent you booked with as Skyscanner does not have access to bookings made with airlines or travel agents.\n",
    "\n",
    "    If you can't remember why you booked with, you can check your credit card statement for a company name.\n",
    "\n",
    "    The search box below can help you find the contact details for the travel provider you booked with.\n",
    "    \"\"\".strip(),\n",
    "    file_path=\"question_7.txt\",\n",
    ")"
   ]
  },
  {
   "cell_type": "code",
   "execution_count": null,
   "metadata": {
    "id": "4gf1rEcAQziX"
   },
   "outputs": [],
   "source": [
    "write_file(\n",
    "    question=\"Luggage\",\n",
    "    answer=\"\"\"\n",
    "    Depending on the flight provider, the rules, conditions and prices for luggage (including sports equipment) do vary.\n",
    "    It's always a good idea to check with the airline or travel agent directly (and you should be shown the options when you make your booking).\n",
    "    \"\"\".strip(),\n",
    "    file_path=\"question_8.txt\",\n",
    ")"
   ]
  },
  {
   "cell_type": "code",
   "execution_count": null,
   "metadata": {
    "id": "mA56T9nYRXBv"
   },
   "outputs": [],
   "source": [
    "write_file(\n",
    "    question=\"Changes, cancellation and refunds\",\n",
    "    answer=\"\"\"\n",
    "\n",
    "The process for changing, canceling, and getting refunds on flights varies depending on the airline and the type of fare that you booked. However, there are some general guidelines that you can follow.\n",
    "    \"\"\".strip(),\n",
    "    file_path=\"question_9.txt\",\n",
    ")"
   ]
  },
  {
   "cell_type": "code",
   "execution_count": null,
   "metadata": {
    "id": "38a7fltyRqs6"
   },
   "outputs": [],
   "source": [
    "write_file(\n",
    "    question=\"Why does the price sometimes change when I am redirected to a flight provider?\",\n",
    "    answer=\"\"\"\n",
    "There are a few reasons why the price of a flight might change when you are redirected to a flight provider's website:\n",
    "\n",
    "Exchange rates. Flight prices are often listed in the currency of the country where the airline is based. If you are booking a flight from a different country, the price may change depending on the current exchange rate.\n",
    "Taxes and fees. Airlines and travel agents may charge different taxes and fees, so the total price of your flight may vary depending on where you book it.\n",
    "Seat availability. Flight prices are often based on demand, so the price of a flight may change if the number of seats available changes.\n",
    "Special offers. Flight providers may offer special discounts and promotions that are not available on Skyscanner. This is why the price of a flight may be lower on the flight provider's website.\n",
    "    \"\"\".strip(),\n",
    "    file_path=\"question_10.txt\",\n",
    ")"
   ]
  },
  {
   "cell_type": "markdown",
   "metadata": {
    "id": "YyFouDsnSuy3"
   },
   "source": [
    "# Model"
   ]
  },
  {
   "cell_type": "code",
   "execution_count": null,
   "metadata": {
    "id": "C7XDfDDXSAvq"
   },
   "outputs": [],
   "source": [
    "DEVICE = \"cuda:0\" if torch.cuda.is_available() else \"cpu\""
   ]
  },
  {
   "cell_type": "code",
   "execution_count": null,
   "metadata": {
    "colab": {
     "base_uri": "https://localhost:8080/"
    },
    "id": "v3XbKTq2jABE",
    "outputId": "2f3100de-3fba-4080-c0a1-ec24301905ab"
   },
   "outputs": [
    {
     "name": "stdout",
     "output_type": "stream",
     "text": [
      "Collecting bitsandbytes\n",
      "  Obtaining dependency information for bitsandbytes from https://files.pythonhosted.org/packages/1e/2c/af22cd797fc368a9f098ed03015730e6568b884fe67f9940793d944a4b7b/bitsandbytes-0.41.1-py3-none-any.whl.metadata\n",
      "  Downloading bitsandbytes-0.41.1-py3-none-any.whl.metadata (9.8 kB)\n",
      "Downloading bitsandbytes-0.41.1-py3-none-any.whl (92.6 MB)\n",
      "\u001b[2K   \u001b[90m━━━━━━━━━━━━━━━━━━━━━━━━━━━━━━━━━━━━━━━━\u001b[0m \u001b[32m92.6/92.6 MB\u001b[0m \u001b[31m2.0 MB/s\u001b[0m eta \u001b[36m0:00:00\u001b[0m\n",
      "\u001b[?25hInstalling collected packages: bitsandbytes\n",
      "Successfully installed bitsandbytes-0.41.1\n",
      "\u001b[33mWARNING: Running pip as the 'root' user can result in broken permissions and conflicting behaviour with the system package manager. It is recommended to use a virtual environment instead: https://pip.pypa.io/warnings/venv\u001b[0m\u001b[33m\n",
      "\u001b[0m"
     ]
    }
   ],
   "source": []
  },
  {
   "cell_type": "code",
   "execution_count": null,
   "metadata": {
    "colab": {
     "base_uri": "https://localhost:8080/",
     "height": 35
    },
    "id": "cxJt_3y9WHUR",
    "outputId": "812a5c6c-b885-4212-f03f-e5eeb553c9f7"
   },
   "outputs": [
    {
     "data": {
      "application/vnd.google.colaboratory.intrinsic+json": {
       "type": "string"
      },
      "text/plain": [
       "'cuda:0'"
      ]
     },
     "execution_count": 13,
     "metadata": {},
     "output_type": "execute_result"
    }
   ],
   "source": [
    "DEVICE"
   ]
  },
  {
   "cell_type": "code",
   "execution_count": null,
   "metadata": {
    "colab": {
     "base_uri": "https://localhost:8080/"
    },
    "id": "RSmT-IY5S-6l",
    "outputId": "3c6a1e93-8ab8-4a2f-93f2-dbb49a67c4c6"
   },
   "outputs": [
    {
     "name": "stderr",
     "output_type": "stream",
     "text": [
      "Detected the presence of a `quantization_config` attribute in the model's configuration but you don't have the correct `bitsandbytes` version to support int8 serialization. Please install the latest version of `bitsandbytes` with  `pip install --upgrade bitsandbytes`.\n"
     ]
    }
   ],
   "source": [
    "model_name_or_path = \"TheBloke/Nous-Hermes-13B-GPTQ\"\n",
    "model_basename = \"nous-hermes-13b-GPTQ-4bit-128g.no-act.order\"\n",
    "\n",
    "tokenizer = AutoTokenizer.from_pretrained(model_name_or_path, use_fast=True)\n",
    "model = AutoGPTQForCausalLM.from_quantized(\n",
    "        model_name_or_path,\n",
    "        model_basename=model_basename,\n",
    "        use_safetensors=True,\n",
    "        trust_remote_code=True,\n",
    "        device=DEVICE,\n",
    "    )\n",
    "generation_config = GenerationConfig.from_pretrained(model_name_or_path)"
   ]
  },
  {
   "cell_type": "code",
   "execution_count": null,
   "metadata": {
    "id": "XOQZSAiDVgt_"
   },
   "outputs": [],
   "source": [
    "question = (\n",
    "    \"which programming language is more suitable for a beginner: Python or Javascript?\"\n",
    ")\n",
    "prompt = f\"\"\"\n",
    "###Instruction: {question}\n",
    "###Response:\n",
    "\"\"\".strip()"
   ]
  },
  {
   "cell_type": "code",
   "execution_count": null,
   "metadata": {
    "id": "uHQ6EndjdBmC"
   },
   "outputs": [],
   "source": [
    "print(prompt)"
   ]
  },
  {
   "cell_type": "code",
   "execution_count": null,
   "metadata": {
    "id": "HxNKtPlTdEfT"
   },
   "outputs": [],
   "source": [
    "%%time\n",
    "input_ids = tokenizer(prompt, return_tensors=\"pt\").input_ids.to(DEVICE)\n",
    "with torch.inference_mode():\n",
    "  output = model.generate(input=input_ids, temperature=0.7, max_new_tokens=512)"
   ]
  },
  {
   "cell_type": "code",
   "execution_count": null,
   "metadata": {
    "id": "4S232_b5dvhJ"
   },
   "outputs": [],
   "source": [
    "print(tokenizer.decode(output[0]))"
   ]
  },
  {
   "cell_type": "code",
   "execution_count": null,
   "metadata": {
    "id": "Zq-Xmf2adzyW"
   },
   "outputs": [],
   "source": [
    "generation_config"
   ]
  },
  {
   "cell_type": "code",
   "execution_count": null,
   "metadata": {
    "id": "RrS1wMaMeacc"
   },
   "outputs": [],
   "source": []
  }
 ],
 "metadata": {
  "accelerator": "GPU",
  "colab": {
   "gpuType": "T4",
   "provenance": []
  },
  "kernelspec": {
   "display_name": "Python 3 (ipykernel)",
   "language": "python",
   "name": "python3"
  },
  "language_info": {
   "codemirror_mode": {
    "name": "ipython",
    "version": 3
   },
   "file_extension": ".py",
   "mimetype": "text/x-python",
   "name": "python",
   "nbconvert_exporter": "python",
   "pygments_lexer": "ipython3",
   "version": "3.10.13"
  }
 },
 "nbformat": 4,
 "nbformat_minor": 1
}
